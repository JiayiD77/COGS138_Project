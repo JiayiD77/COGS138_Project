{
 "cells": [
  {
   "cell_type": "markdown",
   "metadata": {},
   "source": [
    "# COGS 138 - Final Project Proposal"
   ]
  },
  {
   "cell_type": "markdown",
   "metadata": {},
   "source": [
    "# Names\n",
    "\n",
    "- Connor Still\n",
    "- Jesse Sanchez-Villegas\n",
    "- Jiayi Dong\n",
    "- Joshua Chen\n",
    "- Maxwell Jung"
   ]
  },
  {
   "cell_type": "markdown",
   "metadata": {},
   "source": [
    "# Research Question"
   ]
  },
  {
   "attachments": {},
   "cell_type": "markdown",
   "metadata": {},
   "source": [
    "-  Include a specific, clear neural data science question.\n",
    "-  Make sure what you're measuring (variables) to answer the question is clear\n",
    "\n",
    "What is your research question? Include the specific question you're setting out to answer. This question should be specific, answerable with data, be related to neural data science and clear. A general question with specific subquestions is permitted. (1-2 sentences)\n",
    "\n",
    "In this research, we are trying to see if there are pyshilogical features that can be extracted from brain recordings to distinguish certain pyshciatric ilnesses. We also aim to build a classification model and determine which locations (top 20) across the 3 bands (alpha, beta, delta) of the EEG recording can best predict if a person has any disorder\n"
   ]
  },
  {
   "cell_type": "markdown",
   "metadata": {},
   "source": [
    "## Background and Prior Work"
   ]
  },
  {
   "attachments": {},
   "cell_type": "markdown",
   "metadata": {},
   "source": [
    "Electroencephalogrpahy (EEG) is a very useful tool for gathering neural data in that it is fast, cheap, and importantly non-ivasive. We are interested in their usefulness in diagnosing psychiatric ilnesses and disorders. There has been a lot of research into this field <a name=\"cite_ref-1\"></a>[<sup>[1]</sup>](#cite_note-1), and some have shown that EEG data has a lower rate of detecting abnormalities, however we believe that because of the ease of use and gathering compared to other neural data types, we think that using EEG data can still be a valuable input when diagnosing these disorders. Of note, there have been a few succesful uses of EEG data in terms of diagnosing certan psychiatric disorders, such as distinguishing between Alzheimer's and dementia. We hope to do something similar in our exploration and try to find a useful application of EEG data for other types of pyschiatric illnesses and disorders.\n",
    "\n",
    "Another interesting application in this area is that some researchers have used EEG data to see if they can detect early stages of epilepsy <a name=\"cite_ref-2\"></a>[<sup>[2]</sup>](#cite_note-2), and while it isn't always a specific test, EEG can still be useful for determining when more extensive testing is needed.\n",
    "\n",
    "<a name=\"cite_note-1\"></a>[<sub>1.</sub>](#cite_ref-1) Badrakalimuthu, V., Swamiraju, R., & De Waal, H. (2011). EEG in psychiatric practice: To do or not to do? Advances in Psychiatric Treatment, 17(2), 114-121. doi:10.1192/apt.bp.109.006916\n",
    "https://www.cambridge.org/core/journals/advances-in-psychiatric-treatment/article/eeg-in-psychiatric-practice-to-do-or-not-to-do/F671BE17183176E364A2C2578B2DDD61\n",
    "\n",
    "<a name=\"cite_note-2\"></a>[<sub>2.</sub>](#cite_ref-2) Sand, T., Bjørk, M. H., &amp; Vaaler, A. E. (2013a, June 11). Is EEG a useful test in adult psychiatry?. Tidsskrift for Den norske legeforening.\n",
    "https://tidsskriftet.no/en/2013/06/eeg-useful-test-adult-psychiatry\n"
   ]
  },
  {
   "cell_type": "markdown",
   "metadata": {},
   "source": [
    "# Hypothesis\n"
   ]
  },
  {
   "attachments": {},
   "cell_type": "markdown",
   "metadata": {},
   "source": [
    "\n",
    "- By analyzing EEG data of individuals with psychiatric disorders compared to neurotypical individuals, we will be able to draw connections between patterns in the EEG data and respective psychiatric disdorders.\n",
    "- Dimensionality is crucial in answeing this research question; we predict that a dimensionality of at least 3 will be necessary to draw meaningful conclusions.\n",
    "- Comparisons between alpha, beta, and theta band activity will allow for concrete conclusions to be drawn between EEG data and psychiatric disorders.\n",
    "\n",
    "Analyzing the aforementioned datasets with a dimensionality of at least 3 will allow us to find patterns in the EEG data to identify psychiatric illnesses based off of EEG recordings alone.\n",
    "\n",
    "We hypothesize that we will be able to build an accurate classification model that will accurately predict a person's disorder given the alpha, beta, and theta band activies from the EEG recordings."
   ]
  },
  {
   "cell_type": "markdown",
   "metadata": {},
   "source": [
    "# Data"
   ]
  },
  {
   "attachments": {},
   "cell_type": "markdown",
   "metadata": {},
   "source": [
    "1. Explain what the **ideal** dataset you would want to answer this question. (This should include: What variables? How many observations? Who/what/how would these data be collected? How would these data be stored/organized?)\n",
    "\n",
    "Our ideal dataset is one that contains over 4000 observations as well as having more than 5 variables. For this specific hypothesis we want to have the EEG recordings of multiple psychiatric illnesses (eating disorders, depression, etc.) We also want to have a second dataset that adds either more dimensionality or have data on EEG recordings on people unaffected by psychiatric illnesses. The purpose of the data is to be able to use physiological features in our case (alpha, beta, theta bands) to compare the differences.\n",
    "1. Search for potential **real** datasets that could provide you with something useful for this project.  You do not have to find every piece of data you will use, but you do need to have demonstrated some idea that (a) this data is gettable and (b) that this data may be different from what your ideal is\n",
    "\n",
    "We plan on using:\n",
    "https://www.kaggle.com/datasets/shashwatwork/eeg-psychiatric-disorders-dataset.\n",
    "\n",
    "However, this data set does not include specifically people that have no psychiatric illness, so we need to find one for a control. We need to find another dataset to combine with this one. \n",
    "\n",
    "In addition, we can also find other EEG datasets observing other variables (such as other brain disorders, epilepsy, etc) and combine it with our current dataset to make a more complex model that aims to classify correctly classify a person's condition based on their EEG data.\n",
    "\n"
   ]
  },
  {
   "cell_type": "markdown",
   "metadata": {},
   "source": [
    "# Ethics & Privacy"
   ]
  },
  {
   "cell_type": "markdown",
   "metadata": {},
   "source": [
    "- Thoughtful discussion of ethical concerns included\n",
    "- Ethical concerns consider the whole data science process (question asked, data collected, data being used, the bias in data, analysis, post-analysis, etc.)\n",
    "- How your group handled bias/ethical concerns clearly described\n",
    "\n",
    "Acknowledge and address any ethics & privacy related issues of your question(s), proposed dataset(s), and/or analyses. Use the information provided in lecture to guide your group discussion and thinking. If you need further guidance, check out [Deon's Ethics Checklist](http://deon.drivendata.org/#data-science-ethics-checklist). In particular:\n",
    "\n",
    "- Are there any biases/privacy/terms of use issues with the data you propsed?\n",
    "Since we are studying people with psychiatric illnesses we intead to use the correct terminology as well as be considerate of those we are basing our study on. \n",
    "- Are there potential biases in your dataset(s), in terms of who it composes, and how it was collected, that may be problematic in terms of it allowing for equitable analysis? (For example, does your data exclude particular populations, or is it likely to reflect particular human biases in a way that could be a problem?)\n",
    "\n",
    "We see no potential biases when it comes to our datasets as we are planning to use EEG recordings. The only issue we may see with biases in this sense is that out defintion of pyschiatric illness may be different than those who have done the recordings\n",
    "\n",
    "- How will you set out to detect these specific biases before, during, and after/when communicating your analysis?\n",
    "\n",
    "To combat this we intend to firstly define our definition of pyschiatric illnesses, then if necessary filter or add data to match with our definition. \n",
    "\n",
    "- Are there any other issues related to your topic area, data, and/or analyses that are potentially problematic in terms of data privacy and equitable impact?\n",
    "\n",
    "Some patients may not want to have their identity or data itself be published. Or they may not want to be associated with a pyschiatric illness. \n",
    "\n",
    "- How will you handle issues you identified?\n",
    "\n",
    "So we intend to use publicly published data that has been approved by the patients themselves. Along with this we will censor any form of identification to ensure their identity is hidden."
   ]
  },
  {
   "cell_type": "markdown",
   "metadata": {},
   "source": [
    "# Team Expectations "
   ]
  },
  {
   "cell_type": "markdown",
   "metadata": {},
   "source": [
    "\n",
    "Read over the [COGS138 Team Policies](https://github.com/drsimpkins-teaching/cogs138/blob/main/main_project/TeamPolicies.md) individually. Then, include your group’s expectations of one another for successful completion of your COGS108 project below. Discuss and agree on what all of your expectations are. Discuss how your team will communicate throughout the quarter and consider how you will communicate respectfully should conflicts arise. By including each member’s name above and by adding their name to the submission, you are indicating that you have read the COGS108 Team Policies, accept your team’s expectations below, and have every intention to fulfill them. These expectations are for your team’s use and benefit — they won’t be graded for their details.\n",
    "\n",
    "* *Team Expectation 1*\n",
    "For everyone to contribute to the project in some type of manner, do their assigned work.\n",
    "* *Team Expectation 2*\n",
    "To be in constant communication and updating each other on progress as well as potential conflicts.\n",
    "* *Team Expecation 3*\n",
    "To attend any meeting we establish or at least most of them. \n"
   ]
  },
  {
   "cell_type": "markdown",
   "metadata": {},
   "source": [
    "# Project Timeline Proposal"
   ]
  },
  {
   "cell_type": "markdown",
   "metadata": {},
   "source": [
    "Specify your team's specific project timeline. An example timeline has been provided. Changes the dates, times, names, and details to fit your group's plan.\n",
    "\n",
    "If you think you will need any special resources or training outside what we have covered in COGS 138 to solve your problem, then your proposal should state these clearly. For example, if you have selected a problem that involves implementing multiple neural networks, please state this so we can make sure you know what you’re doing and so we can point you to resources you will need to implement your project. Note that you are not required to use outside methods.\n",
    "\n",
    "\n",
    "\n",
    "| Meeting Date  | Meeting Time| Completed Before Meeting  | Discuss at Meeting |\n",
    "|---|---|---|---|\n",
    "| 5/10  |  1 PM | Read & Think about COGS 138 expectations; brainstorm topics/questions  | Determine best form of communication; Discuss and decide on final project topic; discuss hypothesis; begin background research | \n",
    "| 5/20  |  10 AM |  Do background research on topic | Discuss ideal dataset(s) and ethics; draft project proposal | \n",
    "| 5/25-26  |  3pm-deadline  | Edit, finalize, and submit proposal; Search for datasets  | Discuss Wrangling and possible analytical approaches; Assign group members to lead each specific part   |\n",
    "| 6/2 | 6 PM  | Import & Wrangle Data ; EDA | Review/Edit wrangling/EDA; Discuss Analysis Plan; Complete Data checkpoint   |\n",
    "| 6/9  | 12 PM  | Finalize wrangling/EDA; Begin Analysis | Discuss/edit Analysis; Complete project EDA checkpoint |\n",
    "| 6/10  | 12 PM  | Complete analysis; Draft results/conclusion/discussion | Discuss/edit full project |\n",
    "| 6/15  | Before 11:59 PM  | NA | Turn in Final Project & Group Project Surveys |"
   ]
  },
  {
   "cell_type": "code",
   "execution_count": null,
   "metadata": {},
   "outputs": [],
   "source": []
  }
 ],
 "metadata": {
  "kernelspec": {
   "display_name": "Python 3 (ipykernel)",
   "language": "python",
   "name": "python3"
  },
  "language_info": {
   "codemirror_mode": {
    "name": "ipython",
    "version": 3
   },
   "file_extension": ".py",
   "mimetype": "text/x-python",
   "name": "python",
   "nbconvert_exporter": "python",
   "pygments_lexer": "ipython3",
   "version": "3.10.9"
  }
 },
 "nbformat": 4,
 "nbformat_minor": 2
}
